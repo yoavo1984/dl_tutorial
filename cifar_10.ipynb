{
 "cells": [
  {
   "cell_type": "code",
   "execution_count": 12,
   "metadata": {},
   "outputs": [
    {
     "name": "stdout",
     "output_type": "stream",
     "text": [
      "The autoreload extension is already loaded. To reload it, use:\n",
      "  %reload_ext autoreload\n"
     ]
    }
   ],
   "source": [
    "import numpy as np\n",
    "import matplotlib.pyplot as plt\n",
    "\n",
    "# Torch imports\n",
    "import torch\n",
    "from torchvision import datasets\n",
    "from torch import nn\n",
    "from torch import optim\n",
    "from torch.utils.data import DataLoader, Subset\n",
    "from torchvision import transforms\n",
    "\n",
    "# Tensor board!!!\n",
    "from tensorboardX import SummaryWriter\n",
    "\n",
    "from IPython import display # A convinient way of plotting \n",
    "from tqdm import tqdm\n",
    "\n",
    "from CIFAR10_experiments import *\n",
    "\n",
    "%load_ext autoreload\n",
    "%autoreload 2"
   ]
  },
  {
   "cell_type": "markdown",
   "metadata": {},
   "source": [
    "# Loading data"
   ]
  },
  {
   "cell_type": "code",
   "execution_count": 4,
   "metadata": {},
   "outputs": [
    {
     "name": "stdout",
     "output_type": "stream",
     "text": [
      "Files already downloaded and verified\n",
      "Files already downloaded and verified\n"
     ]
    }
   ],
   "source": [
    "transform = transforms.Compose(\n",
    "    [transforms.ToTensor()])\n",
    "\n",
    "cifar_train = datasets.CIFAR10(\"data/cifar\", train=True, download=True, transform=transform)\n",
    "cifar_test = datasets.CIFAR10('data/cifar',  train=False, download=True, transform=transform)\n",
    "\n",
    "cifar_validation = Subset(cifar_test, np.arange(0, len(cifar_test)//2 ))\n",
    "cifar_test = Subset(cifar_test, np.arange(len(cifar_test)//2, len(cifar_test)))\n",
    "\n",
    "cifar_loader = DataLoader(cifar_train, batch_size = 32)\n",
    "cifar_val_loader = DataLoader(cifar_validation, batch_size =32)\n",
    "cifar_test_loader = DataLoader(cifar_validation, batch_size = 32)"
   ]
  },
  {
   "cell_type": "markdown",
   "metadata": {},
   "source": [
    "# Auxiliry functions"
   ]
  },
  {
   "cell_type": "code",
   "execution_count": 25,
   "metadata": {},
   "outputs": [],
   "source": [
    "criterion = nn.NLLLoss()\n",
    "\n",
    "def display_plot(arr):\n",
    "    display.clear_output(wait=True)\n",
    "    plt.plot(val_array)\n",
    "    display.display(plt.gcf())\n",
    "    \n",
    "def report_result(network, epoch):\n",
    "    val_acc = get_model_accuracy(network, cifar_val_loader)\n",
    "    train_acc = get_model_accuracy(network, cifar_loader)\n",
    "    \n",
    "    writer.add_scalar('data/tensorboard/validation', val_acc, epoch)\n",
    "    writer.add_scalar('data/tensorboard/training', train_acc, epoch)"
   ]
  },
  {
   "cell_type": "markdown",
   "metadata": {},
   "source": [
    "# Training hyperparameters loop"
   ]
  },
  {
   "cell_type": "code",
   "execution_count": null,
   "metadata": {},
   "outputs": [],
   "source": [
    "print(\"Training Started\")\n",
    "\n",
    "EPOCHS = 20\n",
    "loss_array = {}\n",
    "val_array = []\n",
    "test_array = []\n",
    "\n",
    "# For Tensorboard.\n",
    "\n",
    "α = 0.0002\n",
    "for activation in [\"ReLU\", \"Tanh\", \"Softplus\"]:\n",
    "    classifier = DynamicClassifier(3, 3, activation)\n",
    "    classifier.cuda()\n",
    "    optimizer = optim.Adam(classifier.parameters(), lr = α)\n",
    "    writer = SummaryWriter(\"runs/Activation_{}\".format(activation))\n",
    "    \n",
    "    train(classifier, cifar_loader, criterion, optimizer, writer)\n",
    "    \n",
    "writer.close()\n",
    "print(\"Training Completed Succesfully!\")"
   ]
  },
  {
   "cell_type": "markdown",
   "metadata": {},
   "source": [
    "# Training Loop"
   ]
  },
  {
   "cell_type": "code",
   "execution_count": 26,
   "metadata": {},
   "outputs": [],
   "source": [
    "def train(classifier, train_set, crieterion, optimizer, writer):\n",
    "    for i in tqdm(range(EPOCHS)):\n",
    "        bulk_loss = 0\n",
    "        for index, batch in enumerate(train_set):\n",
    "            batch_size = len(batch[0])\n",
    "            features = batch[0].cuda()\n",
    "            labels = batch[1].cuda()\n",
    "\n",
    "            optimizer.zero_grad()\n",
    "\n",
    "            prediction = classifier(features)\n",
    "            loss = criterion(prediction, labels)\n",
    "            bulk_loss += loss\n",
    "\n",
    "            if (index%50) == 0 and index != 0:\n",
    "                writer.add_scalar('data/tensorboard/loss', bulk_loss/50.)\n",
    "                bulk_loss = 0\n",
    "\n",
    "            loss.backward()\n",
    "            optimizer.step()\n",
    "            \n",
    "        report_result(classifier, i)"
   ]
  },
  {
   "cell_type": "markdown",
   "metadata": {},
   "source": [
    "# End of notebook"
   ]
  },
  {
   "cell_type": "code",
   "execution_count": null,
   "metadata": {},
   "outputs": [],
   "source": []
  }
 ],
 "metadata": {
  "kernelspec": {
   "display_name": "Python [conda env:yoav]",
   "language": "python",
   "name": "conda-env-yoav-py"
  },
  "language_info": {
   "codemirror_mode": {
    "name": "ipython",
    "version": 3
   },
   "file_extension": ".py",
   "mimetype": "text/x-python",
   "name": "python",
   "nbconvert_exporter": "python",
   "pygments_lexer": "ipython3",
   "version": "3.6.5"
  }
 },
 "nbformat": 4,
 "nbformat_minor": 2
}
