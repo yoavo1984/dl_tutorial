{
 "cells": [
  {
   "cell_type": "markdown",
   "metadata": {},
   "source": [
    "# Autoencoders\n",
    "In this notebook we will develop a simple autoencoder in pytorch.<br>\n",
    "Autoencoders fall under the unsupervised family, and thier purpose is to learn an encoding of the \n",
    "data, where the immediate use case is dimensionality reduction.<br>\n",
    "Autencoders where first purposed by [Rumelhart](https://apps.dtic.mil/docs/citations/ADA164453) under Hinton supervision. <br><br>\n",
    "\n",
    "## Intution\n",
    "The best way to start explaining an autoencoder is by using the following visualization: \n",
    "![alt text](img/cells.png \"Title\")\n",
    "\n",
    "The first thing we notice is that the input and output layer have the same size. <br>\n",
    "This is because our \"goal\" is that the input and the output will be exactly the same! To put antoher way, if we input $x$ we want to get $x$ as the output.<br>\n",
    "The second thing we notice is that we have a hidden layer with a lower dimensionality than the input and output layer. This is where our \"encoding\" hides, we want to shrink the input, and still be able to recover it.\n",
    "\n",
    "## Theory\n",
    "Mathmetically you can define an autoencoder operating on real values using the following tuple :\n",
    "- $n, p$ are integers. (in the above visualiztion $n=8$ and $p=3$)\n",
    "- $f$ a function $f:\\mathbb{R}^n\\rightarrow \\mathbb{R}^p$ \n",
    "- $g$ a function $g:\\mathbb{R}^p\\rightarrow \\mathbb{R}^n$ <br>\n",
    "Under this definition, given an input $x\\in \\mathbb{R}^n$ an autoencoder output is simply the composition $g\\circ f(x)$ <br>\n",
    "\n",
    "Let's extend this to formulate the trainig.\n",
    "- $F$ the family of functions  $f:\\mathbb{R}^n\\rightarrow \\mathbb{R}^p$ \n",
    "- $G$ the family of functions $g:\\mathbb{R}^p\\rightarrow \\mathbb{R}^n$ <br>\n",
    "- $X=\\{x_1, x_2, \\ldots, x_m\\}$ is our training set. $\\forall i ~ x_i \\in \\mathbb{R}^n$\n",
    "- $L$ will be a loss measure $ L : \\mathbb{R}^n \\times \\mathbb{R}^n \\rightarrow \\mathbb{R}$\n"
   ]
  },
  {
   "cell_type": "code",
   "execution_count": null,
   "metadata": {},
   "outputs": [],
   "source": []
  }
 ],
 "metadata": {
  "kernelspec": {
   "display_name": "Python [conda env:yoav]",
   "language": "python",
   "name": "conda-env-yoav-py"
  },
  "language_info": {
   "codemirror_mode": {
    "name": "ipython",
    "version": 3
   },
   "file_extension": ".py",
   "mimetype": "text/x-python",
   "name": "python",
   "nbconvert_exporter": "python",
   "pygments_lexer": "ipython3",
   "version": "3.6.5"
  }
 },
 "nbformat": 4,
 "nbformat_minor": 2
}
