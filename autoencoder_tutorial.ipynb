{
 "cells": [
  {
   "cell_type": "markdown",
   "metadata": {},
   "source": [
    "# Autoencoders\n",
    "In this notebook we will develop a simple autoencoder in pytorch.<br>\n",
    "Autoencoders fall under the unsupervised family, and thier purpose is to learn an encoding of the \n",
    "data, where the immediate use cases are dimensionality reduction and denoising.<br>\n",
    "Autencoders where first purposed by [Rumelhart](https://apps.dtic.mil/docs/citations/ADA164453) under Hinton supervision. <br><br>\n",
    "\n",
    "## Intution\n",
    "The best way to start explaining an autoencoder is by observing the following visualization: \n",
    "![alt text](img/cells.png \"Title\")\n",
    "\n",
    "The first thing we notice is that the input and output layer have the same size. <br>\n",
    "This is because our \"goal\" is that the input and the output will be exactly the same! To put antoher way, if we input $x$ we want to get $x$ as the output.<br>\n",
    "The second thing we notice is that we have a hidden layer with a lower dimensionality than the input and output layer. This is where our \"encoding\" hides, we want to shrink the input, and still be able to recover it.\n",
    "\n",
    "## Theory\n",
    "Mathmetically you can define an autoencoder operating on real values using the following tuple :\n",
    "- $n, p$ are integers. (in the above visualiztion $n=8$ and $p=3$)\n",
    "- $f$ a function $f:\\mathbb{R}^n\\rightarrow \\mathbb{R}^p$ \n",
    "- $g$ a function $g:\\mathbb{R}^p\\rightarrow \\mathbb{R}^n$ <br>\n",
    "Under this definition, given an input $x\\in \\mathbb{R}^n$ an autoencoder output is simply the composition $g\\circ f(x)$ <br>\n",
    "\n",
    "Let's extend this to formulate the trainig.\n",
    "- $F$ a family of functions  $f:\\mathbb{R}^n\\rightarrow \\mathbb{R}^p$ \n",
    "- $G$ a family of functions $g:\\mathbb{R}^p\\rightarrow \\mathbb{R}^n$ <br>\n",
    "- $X=\\{x_1, x_2, \\ldots, x_m\\}$ is our training set. $\\forall i ~ x_i \\in \\mathbb{R}^n$\n",
    "- $L$ will be a loss measure $ L : \\mathbb{R}^n \\times \\mathbb{R}^n \\rightarrow \\mathbb{R}$\n",
    "\n",
    "Our goal in the training will be to find $f^* \\in F$ and $g^* \\in G$ that will bring \n",
    "$\\sum_X L(x_i, g\\circ f(x_i))$ to a minimum.<br>\n",
    "$F, G$ will be a family of nerual nets for our purposes, in the following examples \n",
    "we will use : TODO (fill out network specifity).\n"
   ]
  },
  {
   "cell_type": "markdown",
   "metadata": {},
   "source": [
    "## Theroy out <- -> Parctice in\n",
    "So now that we don't understand what excatly are these autoencoders since we only heard about the theory let's try\n",
    "and code one.\n",
    "### Data set\n",
    "As in all hello world tutorials we will work on the mnist dataset(accesible and insights are easy to gain).\n",
    "We will try to build an autoencoder with a specific task - encode each digit into a single value and then decode that value back to a similar looking digit.\n",
    "The network will look like this : ![alt text](img/mnist_ae.png \"Title\")\n",
    "### Let's code!\n",
    "We're going to code using pytorch!<br>\n",
    "First thing first let's import all the relevant libraries for the rest of this document.\n",
    "# Imports"
   ]
  },
  {
   "cell_type": "code",
   "execution_count": 590,
   "metadata": {},
   "outputs": [],
   "source": [
    "# Torch impors\n",
    "import torch\n",
    "from torch import nn\n",
    "from torchvision import transforms\n",
    "import torchvision.datasets as datasets\n",
    "\n",
    "# Tools Imports\n",
    "import matplotlib.pyplot as plt\n",
    "import numpy as np\n",
    "\n",
    "# Convience Imports\n",
    "from tqdm import tqdm"
   ]
  },
  {
   "cell_type": "markdown",
   "metadata": {},
   "source": [
    "## Grabbing the Mnist dataset using PyTorch."
   ]
  },
  {
   "cell_type": "code",
   "execution_count": 593,
   "metadata": {},
   "outputs": [],
   "source": [
    "# The dataset comes as np array and we want to convert it to tensor. This is the easiest way to do so.\n",
    "image_transofrm = transforms.Compose([transforms.ToTensor()\n",
    "    ])\n",
    "\n",
    "mnist_dataset = datasets.MNIST(root='./data', \n",
    "                               train=True, \n",
    "                               download=True, \n",
    "                               transform=image_transofrm)\n",
    "\n",
    "# Worth mentioning that we don't really need a test set but it is good to look at the \n",
    "# Results the autoencoder produces on the test to see it did not overfit.\n",
    "mnist_test = datasets.MNIST(root='./data',\n",
    "                           train=True, \n",
    "                           download=True, \n",
    "                           transform=image_transofrm)\n",
    "\n",
    "data_loader = torch.utils.data.DataLoader(mnist_dataset, batch_size=64, shuffle=True)\n",
    "\n",
    "def images_to_vectors(images):\n",
    "    return images.view(images.size(0), 784)\n",
    "\n",
    "def vectors_to_images(vectors):\n",
    "    return vectors.view(vectors.size(0), 1, 28, 28)"
   ]
  },
  {
   "cell_type": "markdown",
   "metadata": {},
   "source": [
    "# Encoder "
   ]
  },
  {
   "cell_type": "code",
   "execution_count": 752,
   "metadata": {},
   "outputs": [],
   "source": [
    "from torch import nn\n",
    "\n",
    "class Encoder(nn.Module):\n",
    "    def __init__(self):\n",
    "        super(Encoder, self).__init__()\n",
    "        self.fc1 = nn.Sequential(\n",
    "            nn.Linear(784, 50),\n",
    "            nn.ReLU(),\n",
    "        )\n",
    "        \n",
    "        self.fc2 = nn.Sequential(\n",
    "            nn.Linear(50, 50),\n",
    "            nn.ReLU(),\n",
    "        )\n",
    "        \n",
    "        self.fc3 = nn.Sequential(\n",
    "            nn.Linear(50, 2),\n",
    "        )\n",
    "        \n",
    "        self.layers = [self.fc1, self.fc2, self.fc3]\n",
    "\n",
    "    def forward(self, x):\n",
    "        for layer in self.layers:\n",
    "            x = layer(x)\n",
    "        return x\n",
    "    "
   ]
  },
  {
   "cell_type": "markdown",
   "metadata": {},
   "source": [
    "# Decoder"
   ]
  },
  {
   "cell_type": "code",
   "execution_count": 753,
   "metadata": {},
   "outputs": [],
   "source": [
    "class Decoder(nn.Module):\n",
    "    def __init__(self):\n",
    "        super(Decoder, self).__init__()\n",
    "        self.layers = []\n",
    "        self.fc1 = nn.Sequential(\n",
    "            nn.Linear(2, 50),\n",
    "            nn.ReLU(),\n",
    "        )\n",
    "        \n",
    "        self.fc2 = nn.Sequential(\n",
    "            nn.Linear(50, 50),\n",
    "            nn.ReLU(),            \n",
    "        )\n",
    "        \n",
    "        self.fc3 = nn.Sequential(\n",
    "            nn.Linear(50, 784),\n",
    "            nn.Sigmoid()\n",
    "        )\n",
    "        \n",
    "        self.layers = [self.fc1, self.fc2, self.fc3]\n",
    "        \n",
    "    def forward(self, x):\n",
    "        for layer in self.layers:\n",
    "            x = layer(x)\n",
    "            \n",
    "        return x"
   ]
  },
  {
   "cell_type": "markdown",
   "metadata": {},
   "source": [
    "# Let's build the Network Objects"
   ]
  },
  {
   "cell_type": "code",
   "execution_count": 754,
   "metadata": {},
   "outputs": [],
   "source": [
    "encoder = Encoder()\n",
    "decoder = Decoder()"
   ]
  },
  {
   "cell_type": "markdown",
   "metadata": {},
   "source": [
    "# Optimization Algorithm\n",
    "We will use the RMSprop optimizer for no apparent reason (Some shaddy online resource)."
   ]
  },
  {
   "cell_type": "code",
   "execution_count": 755,
   "metadata": {},
   "outputs": [],
   "source": [
    "encoder_optimizer = optim.RMSprop(encoder.parameters(), lr=0.0001)\n",
    "decoder_optimizer = optim.RMSprop(decoder.parameters(), lr=0.0001)\n",
    "\n",
    "loss = nn.MSELoss()"
   ]
  },
  {
   "cell_type": "markdown",
   "metadata": {},
   "source": [
    "# Let's train! "
   ]
  },
  {
   "cell_type": "code",
   "execution_count": null,
   "metadata": {},
   "outputs": [
    {
     "name": "stderr",
     "output_type": "stream",
     "text": [
      " 88%|████████▊ | 176/200 [16:30<02:15,  5.63s/it]"
     ]
    }
   ],
   "source": [
    "EPOCHS = 200\n",
    "\n",
    "errors = [] # we save the errors throughout the training to visualize the training process once it is done.\n",
    "\n",
    "for _ in tqdm(range(EPOCHS)):\n",
    "    for n_batch, (real_batch,_) in enumerate(data_loader):\n",
    "        encoder_optimizer.zero_grad()\n",
    "        decoder_optimizer.zero_grad()\n",
    "        \n",
    "        flat_image = images_to_vectors(real_batch)\n",
    "        x_encoded = encoder(flat_image)\n",
    "        y = decoder(x_encoded)\n",
    "        \n",
    "        error = loss(flat_image, y)\n",
    "        errors.append(error.item() / 64)\n",
    "        error.backward()\n",
    "        \n",
    "        decoder_optimizer.step()\n",
    "        encoder_optimizer.step()"
   ]
  },
  {
   "cell_type": "code",
   "execution_count": 741,
   "metadata": {},
   "outputs": [
    {
     "data": {
      "text/plain": [
       "[<matplotlib.lines.Line2D at 0x7feb970d7860>]"
      ]
     },
     "execution_count": 741,
     "metadata": {},
     "output_type": "execute_result"
    },
    {
     "data": {
      "image/png": "[encoded data removed]",
      "text/plain": [
       "<Figure size 432x288 with 1 Axes>"
      ]
     },
     "metadata": {},
     "output_type": "display_data"
    }
   ],
   "source": [
    "import matplotlib.pyplot as plt\n",
    "plt.plot(errors)"
   ]
  },
  {
   "cell_type": "code",
   "execution_count": 751,
   "metadata": {},
   "outputs": [
    {
     "data": {
      "text/plain": [
       "<matplotlib.image.AxesImage at 0x7feba816c080>"
      ]
     },
     "execution_count": 751,
     "metadata": {},
     "output_type": "execute_result"
    },
    {
     "data": {
      "image/png": "[encoded data removed]",
      "text/plain": [
       "<Figure size 576x288 with 2 Axes>"
      ]
     },
     "metadata": {},
     "output_type": "display_data"
    }
   ],
   "source": [
    "# Looking at the encoder function\n",
    "def encode_decode(image):\n",
    "    global encoder\n",
    "    global decoder\n",
    "    \n",
    "    encoder.eval()\n",
    "    decoder.eval()\n",
    "    image_encoded = encoder(image)\n",
    "    return decoder(image_encoded)\n",
    "\n",
    "random_image = mnist_test[np.random.randint(0,6000)]\n",
    "image, label = random_image[0], random_image[1]\n",
    "sample = images_to_vectors(image)\n",
    "\n",
    "reconstruction = encode_decode(sample)\n",
    "reconstruction = vectors_to_images(reconstruction)\n",
    "\n",
    "figure, axes = plt.subplots(1,2, figsize=(8, 4))\n",
    "axes[0].imshow(image[0])\n",
    "axes[1].imshow(reconstruction.detach().numpy()[0][0])"
   ]
  },
  {
   "cell_type": "code",
   "execution_count": 694,
   "metadata": {},
   "outputs": [
    {
     "data": {
      "image/png": "[encoded data removed]",
      "text/plain": [
       "<Figure size 432x288 with 1 Axes>"
      ]
     },
     "metadata": {},
     "output_type": "display_data"
    }
   ],
   "source": [
    "rndpm = np.random.permutation(np.arange(100))\n",
    "for n, instance in enumerate(mnist_dataset):\n",
    "    if n < 5000:\n",
    "        n+=1\n",
    "        image, label = instance[0], instance[1]\n",
    "        encoded_image = encoder(images_to_vectors(image))\n",
    "        point = encoded_image[0]\n",
    "        plt.scatter(point[0].item(), point[1].item(), alpha=0.3)\n",
    "    "
   ]
  },
  {
   "cell_type": "code",
   "execution_count": null,
   "metadata": {},
   "outputs": [],
   "source": []
  }
 ],
 "metadata": {
  "kernelspec": {
   "display_name": "Python [conda env:yoav]",
   "language": "python",
   "name": "conda-env-yoav-py"
  },
  "language_info": {
   "codemirror_mode": {
    "name": "ipython",
    "version": 3
   },
   "file_extension": ".py",
   "mimetype": "text/x-python",
   "name": "python",
   "nbconvert_exporter": "python",
   "pygments_lexer": "ipython3",
   "version": "3.6.5"
  }
 },
 "nbformat": 4,
 "nbformat_minor": 2
}
