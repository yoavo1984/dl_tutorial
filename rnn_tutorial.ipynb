{
 "cells": [
  {
   "cell_type": "markdown",
   "metadata": {},
   "source": [
    "# Classyfing names with Character Level RNN\n",
    "In this notebook we will use pytorch to classify names using character level RNN.<br>\n",
    "The puropose of this tutorial is to get familiar with simple RNN architecture \n",
    "and it's implementation in \n",
    "pytorch.<br>\n",
    "This tutorial follow this tutorial : https://pytorch.org/tutorials/intermediate/char_rnn_classification_tutorial.html"
   ]
  },
  {
   "cell_type": "code",
   "execution_count": 103,
   "metadata": {},
   "outputs": [],
   "source": [
    "import matplotlib.pyplot as plt\n",
    "import numpy as np\n",
    "import torch \n",
    "\n",
    "from __future__ import unicode_literals, print_function, division\n",
    "from io import open\n",
    "from glob import glob\n",
    "import os\n",
    "\n",
    "import unicodedata\n",
    "import string"
   ]
  },
  {
   "cell_type": "markdown",
   "metadata": {},
   "source": [
    "## Data Prepration\n",
    "\n",
    "### Data Utils\n",
    "In the next cell we will define some variables and function which will help\n",
    "process the text. <br>\n",
    "You can find the data here : [DATA](https://download.pytorch.org/tutorial/data.zip)"
   ]
  },
  {
   "cell_type": "code",
   "execution_count": 6,
   "metadata": {},
   "outputs": [
    {
     "name": "stdout",
     "output_type": "stream",
     "text": [
      "['data/names/Irish.txt', 'data/names/French.txt', 'data/names/Korean.txt', 'data/names/Japanese.txt', 'data/names/Portuguese.txt', 'data/names/Italian.txt', 'data/names/Chinese.txt', 'data/names/Russian.txt', 'data/names/Polish.txt', 'data/names/German.txt', 'data/names/Scottish.txt', 'data/names/English.txt', 'data/names/Spanish.txt', 'data/names/Dutch.txt', 'data/names/Arabic.txt', 'data/names/Vietnamese.txt', 'data/names/Czech.txt', 'data/names/Greek.txt']\n"
     ]
    }
   ],
   "source": [
    "def find_files(path): return glob(path)\n",
    "\n",
    "print(find_files('data/names/*.txt'))\n",
    "\n",
    "all_letters = string.ascii_letters + \".,;\"\n",
    "n_letters = len(all_letters)\n",
    "\n",
    "def unicode_to_ascii(s):\n",
    "    return ''.join(\n",
    "        c for c in unicodedata.normalize('NFD', s)\n",
    "        if unicodedata.category(c) != 'Mn'\n",
    "        and c in all_letters\n",
    "    )\n",
    "\n",
    "def read_lines(filename):\n",
    "    lines = open(filename, encoding='utf-8').read().strip().split('\\n')\n",
    "    return [unicode_to_ascii(line) for line in lines]"
   ]
  },
  {
   "cell_type": "markdown",
   "metadata": {},
   "source": [
    "### Load Data\n",
    "We will store the data in a simple python dictionary. <br>\n",
    "The language will serve as the key, and the value of each language is all the names in that language."
   ]
  },
  {
   "cell_type": "code",
   "execution_count": 7,
   "metadata": {},
   "outputs": [],
   "source": [
    "category_lines = {} # A dictionay with key=language, value=lines of names in the language.\n",
    "all_categories = []\n",
    "\n",
    "for filename in find_files('data/names/*.txt'):\n",
    "    category = os.path.splitext(os.path.basename(filename))[0] # Extrach the language name.\n",
    "    all_categories.append(category)\n",
    "    lines = read_lines(filename)\n",
    "    category_lines[category] = lines\n",
    "    \n",
    "n_categories = len(all_categories)"
   ]
  },
  {
   "cell_type": "markdown",
   "metadata": {},
   "source": [
    "Lets see the data makes sense. "
   ]
  },
  {
   "cell_type": "code",
   "execution_count": 8,
   "metadata": {},
   "outputs": [
    {
     "name": "stdout",
     "output_type": "stream",
     "text": [
      "['Ababko', 'Abaev', 'Abagyan', 'Abaidulin', 'Abaidullin'] Russian\n"
     ]
    }
   ],
   "source": [
    "np.random.seed(4300)\n",
    "random_language = np.random.choice(all_categories) # Pick a random language\n",
    "print(category_lines[random_language][:5], random_language) # Print 5 names from the language."
   ]
  },
  {
   "cell_type": "markdown",
   "metadata": {},
   "source": [
    "### Tensors Conversion\n",
    "The next thing we want to do is convert our data into numeric data.<br>\n",
    "Remeber this is a char based RNN so we need to find a representation for each letter.<br>\n",
    "As we are trainig a deep learining model with pytorch we will convert the data into tensors, and more specifically a one hot encdoing tensors. So each letter turns into into a vector of size n_letters with zero everywhere except the index of the letter.<br>\n",
    "Pytorch models expect the following structure as input : [batch_size, channels, length]\n"
   ]
  },
  {
   "cell_type": "code",
   "execution_count": 34,
   "metadata": {},
   "outputs": [],
   "source": [
    "# Util function to find the letter index.\n",
    "def letter_to_index(l):\n",
    "    return all_letters.find(l)\n",
    "\n",
    "def letter_to_tensor(l):\n",
    "    tensor = torch.zeros(1, n_letters)\n",
    "    l_index = letter_to_index(l)\n",
    "    tensor[0][l_index] = 1\n",
    "    return tensor\n",
    "\n",
    "# Converts a line in our data (string) into a one hot encdoing tensor.\n",
    "def line_to_tensor(line):\n",
    "    tensor = torch.zeros(len(line), 1, n_letters)\n",
    "    for li, letter in enumerate(line):\n",
    "        letter_index = letter_to_index(letter)\n",
    "        tensor[li][0][letter_index] = 1\n",
    "        \n",
    "    return tensor"
   ]
  },
  {
   "cell_type": "markdown",
   "metadata": {},
   "source": [
    "## Model\n"
   ]
  },
  {
   "cell_type": "code",
   "execution_count": 95,
   "metadata": {},
   "outputs": [],
   "source": [
    "import torch.nn as nn\n",
    "\n",
    "class RNN(nn.Module):\n",
    "    def __init__(self, input_size, hidden_size, output_size):\n",
    "        super(RNN, self).__init__()\n",
    "    \n",
    "        self.hidden_size = hidden_size\n",
    "        \n",
    "        # i2h = Input to Hidden\n",
    "        self.i2h = nn.Linear(input_size + hidden_size, hidden_size)\n",
    "        \n",
    "        # i2i = Input to Output\n",
    "        self.i20 = nn.Linear(input_size+hidden_size, output_size)\n",
    "        \n",
    "        # Activation\n",
    "        self.log_softmax = nn.LogSoftmax(dim=1)\n",
    "        \n",
    "    def forward(self, net_input, net_hidden):\n",
    "        # Concatanated input\n",
    "        c_input = torch.cat((net_input, net_hidden), 1)\n",
    "        \n",
    "        # Forward\n",
    "        hidden = self.i2h(c_input)\n",
    "        output = self.i20(c_input)\n",
    "        output = self.log_softmax(output)\n",
    "        \n",
    "        return output, hidden\n",
    "    \n",
    "\n",
    "n_hidden = 128\n",
    "rnn = RNN(n_letters, n_hidden, n_categories)"
   ]
  },
  {
   "cell_type": "markdown",
   "metadata": {},
   "source": [
    "### Here is an example of how to \"use\" the network with a single letter"
   ]
  },
  {
   "cell_type": "code",
   "execution_count": 96,
   "metadata": {},
   "outputs": [],
   "source": [
    "net_input = letter_to_tensor('A')\n",
    "net_hidden = torch.zeros(1, n_hidden)\n",
    "\n",
    "output, next_hidden = rnn(net_input, net_hidden)"
   ]
  },
  {
   "cell_type": "markdown",
   "metadata": {},
   "source": [
    "## Training preparation"
   ]
  },
  {
   "cell_type": "code",
   "execution_count": 97,
   "metadata": {},
   "outputs": [
    {
     "name": "stdout",
     "output_type": "stream",
     "text": [
      "('Czech', 16)\n"
     ]
    }
   ],
   "source": [
    "def get_language_from_output(output):\n",
    "    top_n, top_i = output.topk(1)\n",
    "    category_i = top_i[0].item()\n",
    "    \n",
    "    return all_categories[category_i], category_i\n",
    "\n",
    "# Let's check it out\n",
    "print(get_language_from_output(output))"
   ]
  },
  {
   "cell_type": "code",
   "execution_count": 98,
   "metadata": {},
   "outputs": [
    {
     "name": "stdout",
     "output_type": "stream",
     "text": [
      "French Parris tensor([1])\n",
      "Spanish Bengochea tensor([12])\n",
      "German Voigt tensor([9])\n",
      "Irish OHara tensor([0])\n",
      "Chinese Ming tensor([6])\n"
     ]
    }
   ],
   "source": [
    "def random_training_example():\n",
    "    language = np.random.choice(all_categories)\n",
    "    line = np.random.choice(category_lines[language])\n",
    "    \n",
    "    language_tensor = torch.tensor([all_categories.index(language)], dtype=torch.long)\n",
    "    line_tensor = line_to_tensor(line)\n",
    "    return language, line, language_tensor, line_tensor\n",
    "\n",
    "# Let's check it out II\n",
    "for i in range(5):\n",
    "    language, line, a, _ = random_training_example()\n",
    "    print(language, line, a)"
   ]
  },
  {
   "cell_type": "markdown",
   "metadata": {},
   "source": [
    "## Loss Function\n",
    "We will use the negative log likelihood as our loss function. This loss is a good choice whenever you have \n",
    "softmax layer as your last layer (as it porvices you with a distribution), and since we are using log softmax we are using the log version of the likelihood. This helps with numerical stability. The reason it is negative is because we want to use gradient descent. "
   ]
  },
  {
   "cell_type": "code",
   "execution_count": 109,
   "metadata": {},
   "outputs": [],
   "source": [
    "criterion = nn.NLLLoss()\n",
    "optimizer = torch.optim.Adam(rnn.parameters(), lr=0.001)"
   ]
  },
  {
   "cell_type": "markdown",
   "metadata": {},
   "source": [
    "# Training!"
   ]
  },
  {
   "cell_type": "code",
   "execution_count": 100,
   "metadata": {},
   "outputs": [],
   "source": [
    "def train(language_tensor, line_tensor):\n",
    "    hidden =torch.zeros(1, n_hidden)\n",
    "    \n",
    "\n",
    "    optimizer.zero_grad()\n",
    "    \n",
    "    line_len = line_tensor.size()[0]\n",
    "    \n",
    "    for i in range(line_len):\n",
    "        output, hidden = rnn(line_tensor[i], hidden)\n",
    "        \n",
    "    loss = criterion(output, language_tensor)\n",
    "    loss.backward()\n",
    "    \n",
    "    optimizer.step()\n",
    "    \n",
    "    return output, loss.item()"
   ]
  },
  {
   "cell_type": "code",
   "execution_count": 110,
   "metadata": {},
   "outputs": [
    {
     "name": "stdout",
     "output_type": "stream",
     "text": [
      "iter :5000 True:Dutch Predicted:Dutch On:Pennders\n",
      "iter :10000 True:Spanish Predicted:Spanish On:Escarcega\n",
      "iter :15000 True:Irish Predicted:English On:Whelan\n",
      "iter :20000 True:German Predicted:Irish On:Friedrich\n",
      "iter :25000 True:French Predicted:French On:Sargent\n",
      "iter :30000 True:Arabic Predicted:Greek On:Sarkis\n",
      "iter :35000 True:French Predicted:French On:Sauvageot\n",
      "iter :40000 True:Polish Predicted:Polish On:Dubanowski\n",
      "iter :45000 True:Dutch Predicted:Dutch On:Muyskens\n",
      "iter :50000 True:Irish Predicted:Irish On:OKane\n",
      "iter :55000 True:German Predicted:Dutch On:Beckert\n",
      "iter :60000 True:Spanish Predicted:Italian On:Maradona\n",
      "iter :65000 True:Chinese Predicted:Chinese On:Foong\n",
      "iter :70000 True:German Predicted:Greek On:Loris\n",
      "iter :75000 True:Japanese Predicted:Japanese On:Hamaguchi\n",
      "iter :80000 True:Arabic Predicted:Arabic On:Malouf\n",
      "iter :85000 True:Portuguese Predicted:Portuguese On:Madeira\n",
      "iter :90000 True:Vietnamese Predicted:Korean On:Kim\n",
      "iter :95000 True:Spanish Predicted:Portuguese On:Rivero\n",
      "iter :100000 True:German Predicted:English On:Oursler\n",
      "iter :105000 True:English Predicted:Spanish On:Searle\n",
      "iter :110000 True:Italian Predicted:Italian On:Acquati\n",
      "iter :115000 True:Arabic Predicted:Arabic On:Sarraf\n",
      "iter :120000 True:Arabic Predicted:Japanese On:Bishara\n",
      "iter :125000 True:Japanese Predicted:Japanese On:Araki\n",
      "iter :130000 True:Korean Predicted:Korean On:Hwang\n",
      "iter :135000 True:Vietnamese Predicted:Chinese On:Bui\n",
      "iter :140000 True:Chinese Predicted:Vietnamese On:Pei\n",
      "iter :145000 True:Italian Predicted:Italian On:Benini\n",
      "iter :150000 True:French Predicted:Portuguese On:Giles\n",
      "iter :155000 True:Dutch Predicted:Dutch On:Sneiders\n",
      "iter :160000 True:Polish Predicted:Polish On:Smolak\n",
      "iter :165000 True:Korean Predicted:Korean On:Chou\n",
      "iter :170000 True:Japanese Predicted:Japanese On:Nakatoni\n",
      "iter :175000 True:Arabic Predicted:French On:Dagher\n",
      "iter :180000 True:Japanese Predicted:Japanese On:Shiotani\n",
      "iter :185000 True:Irish Predicted:Irish On:Mohan\n",
      "iter :190000 True:Czech Predicted:Polish On:Czabal\n",
      "iter :195000 True:Russian Predicted:Russian On:Homentovsky\n",
      "iter :200000 True:Portuguese Predicted:Portuguese On:Ribeiro\n"
     ]
    }
   ],
   "source": [
    "import time\n",
    "import math\n",
    "\n",
    "n_iters     = 200000\n",
    "print_every = 5000\n",
    "plot_every  = 1000\n",
    "\n",
    "current_loss = 0\n",
    "all_losses = []\n",
    "\n",
    "for iter in range(1, n_iters + 1):\n",
    "    lng, line, lng_tensor, line_tensor = random_training_example()\n",
    "    output, loss = train(lng_tensor, line_tensor)\n",
    "    \n",
    "    current_loss += loss\n",
    "    if (iter % print_every) == 0:\n",
    "        lng_p, lng_i = get_language_from_output(output)\n",
    "        print(\"iter :{} True:{} Predicted:{} On:{}\".format(iter, lng, lng_p, line))\n",
    "    \n",
    "    if (iter % plot_every) == 0:\n",
    "        all_losses.append(current_loss / plot_every)\n",
    "        current_loss = 0\n",
    "    "
   ]
  },
  {
   "cell_type": "code",
   "execution_count": 111,
   "metadata": {},
   "outputs": [
    {
     "data": {
      "text/plain": [
       "[<matplotlib.lines.Line2D at 0x7f9214a0dc88>]"
      ]
     },
     "execution_count": 111,
     "metadata": {},
     "output_type": "execute_result"
    },
    {
     "data": {
      "image/png": "[encoded data removed]",
      "text/plain": [
       "<Figure size 432x288 with 1 Axes>"
      ]
     },
     "metadata": {},
     "output_type": "display_data"
    }
   ],
   "source": [
    "plt.plot(all_losses)"
   ]
  },
  {
   "cell_type": "code",
   "execution_count": 112,
   "metadata": {},
   "outputs": [
    {
     "data": {
      "image/png": "[encoded data removed]",
      "text/plain": [
       "<Figure size 432x288 with 2 Axes>"
      ]
     },
     "metadata": {},
     "output_type": "display_data"
    }
   ],
   "source": [
    "import matplotlib.ticker as ticker\n",
    "\n",
    "\n",
    "# Keep track of correct guesses in a confusion matrix\n",
    "confusion = torch.zeros(n_categories, n_categories)\n",
    "n_confusion = 10000\n",
    "\n",
    "# Just return an output given a line\n",
    "def evaluate(line_tensor):\n",
    "    hidden = torch.zeros(1, n_hidden)\n",
    "\n",
    "    for i in range(line_tensor.size()[0]):\n",
    "        output, hidden = rnn(line_tensor[i], hidden)\n",
    "\n",
    "    return output\n",
    "\n",
    "# Go through a bunch of examples and record which are correctly guessed\n",
    "for i in range(n_confusion):\n",
    "    category, line, category_tensor, line_tensor = random_training_example()\n",
    "    output = evaluate(line_tensor)\n",
    "    guess, guess_i = get_language_from_output(output)\n",
    "    category_i = all_categories.index(category)\n",
    "    confusion[category_i][guess_i] += 1\n",
    "\n",
    "# Normalize by dividing every row by its sum\n",
    "for i in range(n_categories):\n",
    "    confusion[i] = confusion[i] / confusion[i].sum()\n",
    "\n",
    "# Set up plot\n",
    "fig = plt.figure()\n",
    "ax = fig.add_subplot(111)\n",
    "cax = ax.matshow(confusion.numpy())\n",
    "fig.colorbar(cax)\n",
    "\n",
    "# Set up axes\n",
    "ax.set_xticklabels([''] + all_categories, rotation=90)\n",
    "ax.set_yticklabels([''] + all_categories)\n",
    "\n",
    "# Force label at every tick\n",
    "ax.xaxis.set_major_locator(ticker.MultipleLocator(1))\n",
    "ax.yaxis.set_major_locator(ticker.MultipleLocator(1))\n",
    "\n",
    "# sphinx_gallery_thumbnail_number = 2\n",
    "plt.show()"
   ]
  },
  {
   "cell_type": "code",
   "execution_count": null,
   "metadata": {},
   "outputs": [],
   "source": []
  }
 ],
 "metadata": {
  "kernelspec": {
   "display_name": "Python [conda env:yoav]",
   "language": "python",
   "name": "conda-env-yoav-py"
  },
  "language_info": {
   "codemirror_mode": {
    "name": "ipython",
    "version": 3
   },
   "file_extension": ".py",
   "mimetype": "text/x-python",
   "name": "python",
   "nbconvert_exporter": "python",
   "pygments_lexer": "ipython3",
   "version": "3.6.5"
  }
 },
 "nbformat": 4,
 "nbformat_minor": 2
}
