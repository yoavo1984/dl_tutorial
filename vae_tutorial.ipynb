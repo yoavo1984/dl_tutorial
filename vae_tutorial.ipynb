{
 "cells": [
  {
   "cell_type": "markdown",
   "metadata": {},
   "source": [
    "# Introduction\n",
    "\n",
    "When using a vanilla autoencoders once find both an encoding function $f$ which maps the input\n",
    "to some latent space, $z$,<br> and a decoder function $g$ which takes as input points and $z$ and maps them\n",
    "back to the original domain.<br>\n",
    "One start asking himself - can we use the latent space directy? <br>\n",
    "This is a complicated question with a simple answer : No. Since we are not contstraining the latent space\n",
    "to \"behave\" in a continius way moving from one point to another could be meaningless.<br>\n",
    "This is where __VAE__ comes in."
   ]
  },
  {
   "cell_type": "markdown",
   "metadata": {},
   "source": [
    "# VAE\n",
    "![VAE_IMAGE img](https://cdn-images-1.medium.com/max/2600/1*22cSCfmktNIwH5m__u2ffA.png)\n"
   ]
  },
  {
   "cell_type": "code",
   "execution_count": null,
   "metadata": {},
   "outputs": [],
   "source": []
  }
 ],
 "metadata": {
  "kernelspec": {
   "display_name": "Python [conda env:yoav]",
   "language": "python",
   "name": "conda-env-yoav-py"
  },
  "language_info": {
   "codemirror_mode": {
    "name": "ipython",
    "version": 3
   },
   "file_extension": ".py",
   "mimetype": "text/x-python",
   "name": "python",
   "nbconvert_exporter": "python",
   "pygments_lexer": "ipython3",
   "version": "3.6.5"
  }
 },
 "nbformat": 4,
 "nbformat_minor": 2
}
